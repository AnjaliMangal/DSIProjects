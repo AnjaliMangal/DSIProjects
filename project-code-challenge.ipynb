{
 "cells": [
  {
   "cell_type": "markdown",
   "metadata": {},
   "source": [
    "<img src=\"http://imgur.com/1ZcRyrc.png\" style=\"float: left; margin: 20px; height: 55px\">\n",
    "\n",
    "# Project 1: Python Coding Exercises\n",
    "\n",
    "_Authors: Joseph Nelson (DC) _\n",
    "\n",
    "---"
   ]
  },
  {
   "cell_type": "markdown",
   "metadata": {},
   "source": [
    "The following code challenges are drawn from common exercises used in technical interviews.\n",
    "\n",
    "Please note that there may be several ways to approach each challenge. If you get stuck, try mapping out your approach in pseudocode first. Finally, while solutions to problems like these may be found online, remember that if you copy/paste code that you can't explain, you'll be missing out on the point of the project. The only way to truly learn a new skill is through practice, trial, and error - we can only help you improve by understanding where you are having trouble."
   ]
  },
  {
   "cell_type": "markdown",
   "metadata": {},
   "source": [
    "### Challenge 1: Largest Palindrome\n",
    "A palindromic number reads the same both ways. For example, 1234321 is a palindrome. The largest palindrome made from the product of two two-digit numbers is 9009 = 91 × 99. Find the largest palindrome made from the product of two three-digit numbers. Afterward, write a brief explanation walking through your code's logic in markdown."
   ]
  },
  {
   "cell_type": "code",
   "execution_count": 1,
   "metadata": {},
   "outputs": [
    {
     "name": "stdout",
     "output_type": "stream",
     "text": [
      "My First Challenge code\n"
     ]
    }
   ],
   "source": [
    "print(\"My First Challenge code\")"
   ]
  },
  {
   "cell_type": "code",
   "execution_count": 5,
   "metadata": {},
   "outputs": [
    {
     "name": "stdout",
     "output_type": "stream",
     "text": [
      "906609\n"
     ]
    }
   ],
   "source": [
    "num = 0\n",
    "for n1 in range(999, 100, -1):\n",
    "    for n2 in range(n1, 100, -1):\n",
    "        x = n1 * n2\n",
    "        if x > num:\n",
    "            s = str(n1 * n2)\n",
    "            if s == s[::-1]:\n",
    "                num = n1 * n2\n",
    "print(num)"
   ]
  },
  {
   "cell_type": "markdown",
   "metadata": {},
   "source": [
    "The largest palindrome made from the product of two 3-digit numbers is 913 * 993 = 906609"
   ]
  },
  {
   "cell_type": "markdown",
   "metadata": {},
   "source": [
    "\n",
    "### Challenge 2: Summation of Primes\n",
    "The sum of the primes below 10 is 2 + 3 + 5 + 7 = 17. Find the sum of all the primes below 2,000. Afterward, write a brief explanation walking through your code's logic in markdown."
   ]
  },
  {
   "cell_type": "code",
   "execution_count": null,
   "metadata": {},
   "outputs": [],
   "source": []
  },
  {
   "cell_type": "code",
   "execution_count": 7,
   "metadata": {},
   "outputs": [
    {
     "name": "stdout",
     "output_type": "stream",
     "text": [
      "Challenger problem 2:\n",
      "\n",
      "Sum of all prime numbers upto 10 : 15\n"
     ]
    }
   ],
   "source": [
    "print( \"Challenger problem 2:\")\n",
    "num =2000\n",
    "sum = 0\n",
    "\n",
    "for i in range(2, num + 1):\n",
    "\n",
    "    j = 2\n",
    "    \n",
    "    for j in range(2, i):\n",
    "        if (int(i % j) == 0):\n",
    "            j = i\n",
    "            break;\n",
    "\n",
    "    #If the number is prime then add it.\n",
    "    if j is not i:\n",
    "        sum += i\n",
    "\n",
    "print(\"\\nSum of all prime numbers upto\", num, \":\", sum)"
   ]
  },
  {
   "cell_type": "markdown",
   "metadata": {},
   "source": [
    "### Challenge 3: Multiples of 3 and 5\n",
    "If we list all of the natural numbers below 10 that are multiples of 3 or 5, we get 3, 5, 6, and 9. The sum of these multiples is 23. Find the sum of all the multiples of 3 and 5 below 1,000. Afterward, write a brief explanation walking through your code's logic in markdown."
   ]
  },
  {
   "cell_type": "code",
   "execution_count": 22,
   "metadata": {},
   "outputs": [
    {
     "name": "stdout",
     "output_type": "stream",
     "text": [
      "6\n",
      "[15, 30, 45, 60, 75, 90]\n",
      "0\n",
      "15\n",
      "45\n",
      "90\n",
      "150\n",
      "225\n",
      "315\n"
     ]
    }
   ],
   "source": [
    "nums =[]\n",
    "for i in range (3,100) :\n",
    "    #print (i)\n",
    "    if i%3==0 and  i%5==0 :\n",
    "        if i not in nums :\n",
    "            nums.append(i)\n",
    "print(len(nums))        \n",
    "sum = 0\n",
    "n = len(nums)\n",
    "\n",
    "print(nums)\n",
    "for i in range (0,n) :\n",
    "    print(sum)\n",
    "    sum =sum + nums[i]\n",
    "print(sum )   "
   ]
  },
  {
   "cell_type": "markdown",
   "metadata": {},
   "source": [
    "### Challenge 4: String Compressor\n",
    "Implement a method to perform basic string compression using the counts of repeated characters. (This is called run-length encoding.) For example, the string \"aabcccccaaa\" would become a2b1c5a3. If the “compressed” string would not become smaller than the original string, your method should return the original string. You can assume the string has only uppercase and lowercase letters (a–z). Specify whether your solution is case sensitive or case insensitive and what you would need to change to make it the other. Afterward, write a brief explanation walking through your code's logic in markdown."
   ]
  },
  {
   "cell_type": "code",
   "execution_count": null,
   "metadata": {},
   "outputs": [],
   "source": []
  },
  {
   "cell_type": "code",
   "execution_count": 5,
   "metadata": {},
   "outputs": [
    {
     "name": "stdout",
     "output_type": "stream",
     "text": [
      "A1n1j1a1l1i1\n",
      "a2b1c5a3\n"
     ]
    }
   ],
   "source": [
    "def string_compress(string):\n",
    "    out_str= \"\"\n",
    "    count= 0\n",
    "    currentchar = \"\"\n",
    "    \n",
    "    for char in string :\n",
    "        if char== currentchar :\n",
    "            count+=1\n",
    "        else:\n",
    "            if count >0 :\n",
    "                out_str += currentchar +str(count)\n",
    "            currentchar = char\n",
    "            count =1\n",
    "    out_str += currentchar +str(count)     \n",
    "    \n",
    "    return(out_str)\n",
    "\n",
    "print (string_compress('Anjali'))\n",
    "print (string_compress('aabcccccaaa'))\n",
    "        \n",
    "    \n",
    "\n",
    " \n",
    "    \n"
   ]
  },
  {
   "cell_type": "markdown",
   "metadata": {},
   "source": [
    "### *BONUS* Challenge: FizzBuzz\n",
    "Write a program that prints all of the numbers from 1 to 100. For multiples of 3, instead of the number, print \"Fizz;\" for multiples of 5, print \"Buzz.\" For numbers that are multiples of both 3 and 5, print \"FizzBuzz.\" Afterward, write a brief explanation walking through your code's logic in markdown."
   ]
  },
  {
   "cell_type": "code",
   "execution_count": 16,
   "metadata": {},
   "outputs": [
    {
     "name": "stdout",
     "output_type": "stream",
     "text": [
      "number is:3 , and its Fizz\n",
      "number is:5 , and its Buzz\n",
      "number is:6 , and its Fizz\n",
      "number is:9 , and its Fizz\n",
      "number is:10 , and its Buzz\n",
      "number is:12 , and its Fizz\n",
      "number is:15 , and its FizzBuzz\n",
      "number is:18 , and its Fizz\n",
      "number is:20 , and its Buzz\n",
      "number is:21 , and its Fizz\n",
      "number is:24 , and its Fizz\n",
      "number is:25 , and its Buzz\n",
      "number is:27 , and its Fizz\n",
      "number is:30 , and its FizzBuzz\n",
      "number is:33 , and its Fizz\n",
      "number is:35 , and its Buzz\n",
      "number is:36 , and its Fizz\n",
      "number is:39 , and its Fizz\n",
      "number is:40 , and its Buzz\n",
      "number is:42 , and its Fizz\n",
      "number is:45 , and its FizzBuzz\n",
      "number is:48 , and its Fizz\n",
      "number is:50 , and its Buzz\n",
      "number is:51 , and its Fizz\n",
      "number is:54 , and its Fizz\n",
      "number is:55 , and its Buzz\n",
      "number is:57 , and its Fizz\n",
      "number is:60 , and its FizzBuzz\n",
      "number is:63 , and its Fizz\n",
      "number is:65 , and its Buzz\n",
      "number is:66 , and its Fizz\n",
      "number is:69 , and its Fizz\n",
      "number is:70 , and its Buzz\n",
      "number is:72 , and its Fizz\n",
      "number is:75 , and its FizzBuzz\n",
      "number is:78 , and its Fizz\n",
      "number is:80 , and its Buzz\n",
      "number is:81 , and its Fizz\n",
      "number is:84 , and its Fizz\n",
      "number is:85 , and its Buzz\n",
      "number is:87 , and its Fizz\n",
      "number is:90 , and its FizzBuzz\n",
      "number is:93 , and its Fizz\n",
      "number is:95 , and its Buzz\n",
      "number is:96 , and its Fizz\n",
      "number is:99 , and its Fizz\n",
      "number is:100 , and its Buzz\n"
     ]
    }
   ],
   "source": [
    "num = 100\n",
    "for i in range ( 1,101) :\n",
    "    if (i%3==0 and  i%5==0):\n",
    "        print('number is:{} , and its FizzBuzz'.format(i))\n",
    "    elif i%3== 0 :\n",
    "        print('number is:{} , and its Fizz'.format(i))\n",
    "    elif i%5==0 : \n",
    "        print('number is:{} , and its Buzz'.format(i))"
   ]
  },
  {
   "cell_type": "code",
   "execution_count": null,
   "metadata": {},
   "outputs": [],
   "source": []
  }
 ],
 "metadata": {
  "anaconda-cloud": {},
  "kernelspec": {
   "display_name": "Python 3",
   "language": "python",
   "name": "python3"
  },
  "language_info": {
   "codemirror_mode": {
    "name": "ipython",
    "version": 3
   },
   "file_extension": ".py",
   "mimetype": "text/x-python",
   "name": "python",
   "nbconvert_exporter": "python",
   "pygments_lexer": "ipython3",
   "version": "3.8.3"
  }
 },
 "nbformat": 4,
 "nbformat_minor": 2
}
