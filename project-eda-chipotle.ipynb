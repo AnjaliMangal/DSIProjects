{
 "cells": [
  {
   "cell_type": "markdown",
   "metadata": {},
   "source": [
    "<img src=\"http://imgur.com/1ZcRyrc.png\" style=\"float: left; margin: 20px; height: 55px\">\n",
    "\n",
    "# Project 2: Analyzing Chipotle Data\n",
    "\n",
    "_Author: Joseph Nelson (DC)_\n",
    "\n",
    "---"
   ]
  },
  {
   "cell_type": "markdown",
   "metadata": {},
   "source": [
    "For Project 2, you will complete a series of exercises exploring [order data from Chipotle](https://github.com/TheUpshot/chipotle), compliments of _The New York Times'_ \"The Upshot.\"\n",
    "\n",
    "For these exercises, you will conduct basic exploratory data analysis (Pandas not required) to understand the essentials of Chipotle's order data: how many orders are being made, the average price per order, how many different ingredients are used, etc. These allow you to practice business analysis skills while also becoming comfortable with Python."
   ]
  },
  {
   "cell_type": "markdown",
   "metadata": {},
   "source": [
    "---\n",
    "\n",
    "## Basic Level"
   ]
  },
  {
   "cell_type": "markdown",
   "metadata": {},
   "source": [
    "### Part 1: Read in the file with `csv.reader()` and store it in an object called `file_nested_list`.\n",
    "\n",
    "Hint: This is a TSV (tab-separated value) file, and `csv.reader()` needs to be told [how to handle it](https://docs.python.org/2/library/csv.html)."
   ]
  },
  {
   "cell_type": "code",
   "execution_count": 171,
   "metadata": {},
   "outputs": [],
   "source": [
    "import csv\n",
    "import pandas as pd\n",
    "from collections import namedtuple   # Convenient to store the data rows\n",
    "\n",
    "DATA_FILE = './data/chipotle.tsv'"
   ]
  },
  {
   "cell_type": "code",
   "execution_count": 172,
   "metadata": {},
   "outputs": [
    {
     "name": "stdout",
     "output_type": "stream",
     "text": [
      "   order_id  quantity                              item_name  \\\n",
      "0         1         1           Chips and Fresh Tomato Salsa   \n",
      "1         1         1                                   Izze   \n",
      "2         1         1                       Nantucket Nectar   \n",
      "3         1         1  Chips and Tomatillo-Green Chili Salsa   \n",
      "4         2         2                           Chicken Bowl   \n",
      "\n",
      "                                  choice_description item_price  \n",
      "0                                                NaN     $2.39   \n",
      "1                                       [Clementine]     $3.39   \n",
      "2                                            [Apple]     $3.39   \n",
      "3                                                NaN     $2.39   \n",
      "4  [Tomatillo-Red Chili Salsa (Hot), [Black Beans...    $16.98   \n",
      "(4622, 5)\n",
      "Index(['order_id', 'quantity', 'item_name', 'choice_description',\n",
      "       'item_price'],\n",
      "      dtype='object')\n"
     ]
    }
   ],
   "source": [
    "chipotle_df = pd.read_csv(DATA_FILE,sep='\\t')\n",
    "print(chipotle_df.head())\n",
    "print(chipotle_df.shape)\n",
    "print(chipotle_df.columns)"
   ]
  },
  {
   "cell_type": "code",
   "execution_count": 173,
   "metadata": {},
   "outputs": [
    {
     "data": {
      "text/plain": [
       "order_id               int64\n",
       "quantity               int64\n",
       "item_name             object\n",
       "choice_description    object\n",
       "item_price            object\n",
       "dtype: object"
      ]
     },
     "execution_count": 173,
     "metadata": {},
     "output_type": "execute_result"
    }
   ],
   "source": [
    "chipotle_df.dtypes"
   ]
  },
  {
   "cell_type": "code",
   "execution_count": 174,
   "metadata": {},
   "outputs": [
    {
     "data": {
      "text/html": [
       "<div>\n",
       "<style scoped>\n",
       "    .dataframe tbody tr th:only-of-type {\n",
       "        vertical-align: middle;\n",
       "    }\n",
       "\n",
       "    .dataframe tbody tr th {\n",
       "        vertical-align: top;\n",
       "    }\n",
       "\n",
       "    .dataframe thead th {\n",
       "        text-align: right;\n",
       "    }\n",
       "</style>\n",
       "<table border=\"1\" class=\"dataframe\">\n",
       "  <thead>\n",
       "    <tr style=\"text-align: right;\">\n",
       "      <th></th>\n",
       "      <th>order_id</th>\n",
       "      <th>quantity</th>\n",
       "      <th>item_name</th>\n",
       "      <th>choice_description</th>\n",
       "      <th>item_price</th>\n",
       "    </tr>\n",
       "  </thead>\n",
       "  <tbody>\n",
       "    <tr>\n",
       "      <th>0</th>\n",
       "      <td>1</td>\n",
       "      <td>1</td>\n",
       "      <td>Chips and Fresh Tomato Salsa</td>\n",
       "      <td>NaN</td>\n",
       "      <td>$2.39</td>\n",
       "    </tr>\n",
       "    <tr>\n",
       "      <th>1</th>\n",
       "      <td>1</td>\n",
       "      <td>1</td>\n",
       "      <td>Izze</td>\n",
       "      <td>[Clementine]</td>\n",
       "      <td>$3.39</td>\n",
       "    </tr>\n",
       "    <tr>\n",
       "      <th>2</th>\n",
       "      <td>1</td>\n",
       "      <td>1</td>\n",
       "      <td>Nantucket Nectar</td>\n",
       "      <td>[Apple]</td>\n",
       "      <td>$3.39</td>\n",
       "    </tr>\n",
       "    <tr>\n",
       "      <th>3</th>\n",
       "      <td>1</td>\n",
       "      <td>1</td>\n",
       "      <td>Chips and Tomatillo-Green Chili Salsa</td>\n",
       "      <td>NaN</td>\n",
       "      <td>$2.39</td>\n",
       "    </tr>\n",
       "    <tr>\n",
       "      <th>4</th>\n",
       "      <td>2</td>\n",
       "      <td>2</td>\n",
       "      <td>Chicken Bowl</td>\n",
       "      <td>[Tomatillo-Red Chili Salsa (Hot), [Black Beans...</td>\n",
       "      <td>$16.98</td>\n",
       "    </tr>\n",
       "  </tbody>\n",
       "</table>\n",
       "</div>"
      ],
      "text/plain": [
       "   order_id  quantity                              item_name  \\\n",
       "0         1         1           Chips and Fresh Tomato Salsa   \n",
       "1         1         1                                   Izze   \n",
       "2         1         1                       Nantucket Nectar   \n",
       "3         1         1  Chips and Tomatillo-Green Chili Salsa   \n",
       "4         2         2                           Chicken Bowl   \n",
       "\n",
       "                                  choice_description item_price  \n",
       "0                                                NaN     $2.39   \n",
       "1                                       [Clementine]     $3.39   \n",
       "2                                            [Apple]     $3.39   \n",
       "3                                                NaN     $2.39   \n",
       "4  [Tomatillo-Red Chili Salsa (Hot), [Black Beans...    $16.98   "
      ]
     },
     "execution_count": 174,
     "metadata": {},
     "output_type": "execute_result"
    }
   ],
   "source": [
    "chipotle_df.head(5)"
   ]
  },
  {
   "cell_type": "markdown",
   "metadata": {},
   "source": [
    "### Part 2: Separate `file_nested_list` into the `header` and the `data`.\n"
   ]
  },
  {
   "cell_type": "code",
   "execution_count": 177,
   "metadata": {},
   "outputs": [
    {
     "name": "stdout",
     "output_type": "stream",
     "text": [
      "['order_id', 'quantity', 'item_name', 'choice_description', 'item_price']\n"
     ]
    }
   ],
   "source": [
    "#list of header\n",
    "##NOte I did not understand much what os the ask here and what ios the usage \n",
    "list_header = list(chipotle_df)\n",
    "print(list_header)"
   ]
  },
  {
   "cell_type": "code",
   "execution_count": null,
   "metadata": {},
   "outputs": [],
   "source": [
    "\n"
   ]
  },
  {
   "cell_type": "markdown",
   "metadata": {},
   "source": [
    "---\n",
    "\n",
    "## Intermediate Level"
   ]
  },
  {
   "cell_type": "markdown",
   "metadata": {},
   "source": [
    "### Part 3: Calculate the average price of an order.\n",
    "\n",
    "Hint: Examine the data to see if the `quantity` column is relevant to this calculation.\n",
    "\n",
    "Hint: Think carefully about the simplest way to do this!"
   ]
  },
  {
   "cell_type": "code",
   "execution_count": 178,
   "metadata": {},
   "outputs": [
    {
     "name": "stdout",
     "output_type": "stream",
     "text": [
      "Total of unique orders is :1834\n"
     ]
    }
   ],
   "source": [
    "#Average price of an order is the sum of all values in item_price  divide by total number of unique valuecount of order_id \n",
    "total_number_unique_orders = chipotle_df.order_id.value_counts().count()\n",
    "print('Total of unique orders is :{}'.format(total_number_unique_orders))\n",
    "\n",
    "\n",
    "\n"
   ]
  },
  {
   "cell_type": "code",
   "execution_count": 179,
   "metadata": {},
   "outputs": [],
   "source": [
    "#we got rid of $ from item_price\n",
    "chipotle_df.item_price = chipotle_df.item_price.apply(lambda x: float(x[1:-1]))"
   ]
  },
  {
   "cell_type": "code",
   "execution_count": 180,
   "metadata": {},
   "outputs": [
    {
     "name": "stdout",
     "output_type": "stream",
     "text": [
      "Sum of al orders  is :34500.16\n"
     ]
    }
   ],
   "source": [
    "\n",
    "sum_orders = chipotle_df.item_price.sum()\n",
    "print('Sum of al orders  is :{}'.format(sum_orders))\n",
    "\n",
    "\n"
   ]
  },
  {
   "cell_type": "code",
   "execution_count": 181,
   "metadata": {},
   "outputs": [
    {
     "name": "stdout",
     "output_type": "stream",
     "text": [
      "Average price of order  is :18.81\n"
     ]
    }
   ],
   "source": [
    "# average price of order  \n",
    "avg_price_order = sum_orders/total_number_unique_orders\n",
    "\n",
    "print('Average price of order  is :{}'.format(round(avg_price_order,2)))"
   ]
  },
  {
   "cell_type": "markdown",
   "metadata": {},
   "source": [
    "### Part 4: Create a list (or set) named `unique_sodas` containing all of unique sodas and soft drinks that Chipotle sells.\n",
    "\n",
    "Note: Just look for `'Canned Soda'` and `'Canned Soft Drink'`, and ignore other drinks like `'Izze'`."
   ]
  },
  {
   "cell_type": "code",
   "execution_count": 182,
   "metadata": {},
   "outputs": [
    {
     "data": {
      "text/plain": [
       "array(['Chips and Fresh Tomato Salsa', 'Izze', 'Nantucket Nectar',\n",
       "       'Chips and Tomatillo-Green Chili Salsa', 'Chicken Bowl',\n",
       "       'Side of Chips', 'Steak Burrito', 'Steak Soft Tacos',\n",
       "       'Chips and Guacamole', 'Chicken Crispy Tacos',\n",
       "       'Chicken Soft Tacos', 'Chicken Burrito', 'Canned Soda',\n",
       "       'Barbacoa Burrito', 'Carnitas Burrito', 'Carnitas Bowl',\n",
       "       'Bottled Water', 'Chips and Tomatillo Green Chili Salsa',\n",
       "       'Barbacoa Bowl', 'Chips', 'Chicken Salad Bowl', 'Steak Bowl',\n",
       "       'Barbacoa Soft Tacos', 'Veggie Burrito', 'Veggie Bowl',\n",
       "       'Steak Crispy Tacos', 'Chips and Tomatillo Red Chili Salsa',\n",
       "       'Barbacoa Crispy Tacos', 'Veggie Salad Bowl',\n",
       "       'Chips and Roasted Chili-Corn Salsa',\n",
       "       'Chips and Roasted Chili Corn Salsa', 'Carnitas Soft Tacos',\n",
       "       'Chicken Salad', 'Canned Soft Drink', 'Steak Salad Bowl',\n",
       "       '6 Pack Soft Drink', 'Chips and Tomatillo-Red Chili Salsa', 'Bowl',\n",
       "       'Burrito', 'Crispy Tacos', 'Carnitas Crispy Tacos', 'Steak Salad',\n",
       "       'Chips and Mild Fresh Tomato Salsa', 'Veggie Soft Tacos',\n",
       "       'Carnitas Salad Bowl', 'Barbacoa Salad Bowl', 'Salad',\n",
       "       'Veggie Crispy Tacos', 'Veggie Salad', 'Carnitas Salad'],\n",
       "      dtype=object)"
      ]
     },
     "execution_count": 182,
     "metadata": {},
     "output_type": "execute_result"
    }
   ],
   "source": [
    "#EDA to see unique values of itemnames \n",
    "chipotle_df.item_name.unique()"
   ]
  },
  {
   "cell_type": "code",
   "execution_count": 183,
   "metadata": {},
   "outputs": [
    {
     "data": {
      "text/plain": [
       "array([nan, '[Clementine]', '[Apple]', ...,\n",
       "       '[Roasted Chili Corn Salsa, [Pinto Beans, Sour Cream, Cheese, Lettuce, Guacamole]]',\n",
       "       '[Tomatillo Green Chili Salsa, [Rice, Black Beans]]',\n",
       "       '[Tomatillo Green Chili Salsa, [Rice, Fajita Vegetables, Black Beans, Guacamole]]'],\n",
       "      dtype=object)"
      ]
     },
     "execution_count": 183,
     "metadata": {},
     "output_type": "execute_result"
    }
   ],
   "source": [
    "#EDA to see unique values of descriptiom\n",
    "chipotle_df.choice_description.unique()"
   ]
  },
  {
   "cell_type": "code",
   "execution_count": 185,
   "metadata": {},
   "outputs": [],
   "source": [
    "#Creating a new data set with only 'Canned Soda' and 'Canned Soft Drink'\n",
    "soda_df=chipotle_df[chipotle_df.item_name.isin(['Canned Soda', 'Canned Soft Drink'])].head()"
   ]
  },
  {
   "cell_type": "code",
   "execution_count": 186,
   "metadata": {},
   "outputs": [
    {
     "name": "stdout",
     "output_type": "stream",
     "text": [
      "['[Sprite]', '[Dr. Pepper]', '[Mountain Dew]']\n"
     ]
    }
   ],
   "source": [
    "#\n",
    "unique_sodas=list(soda_df.choice_description.unique())\n",
    "print(unique_sodas)"
   ]
  },
  {
   "cell_type": "markdown",
   "metadata": {},
   "source": [
    "---\n",
    "\n",
    "## Advanced Level\n"
   ]
  },
  {
   "cell_type": "markdown",
   "metadata": {},
   "source": [
    "### Part 5: Calculate the average number of toppings per burrito.\n",
    "\n",
    "Note: Let's ignore the `quantity` column to simplify this task.\n",
    "\n",
    "Hint: Think carefully about the easiest way to count the number of toppings!\n"
   ]
  },
  {
   "cell_type": "code",
   "execution_count": 187,
   "metadata": {},
   "outputs": [
    {
     "data": {
      "text/html": [
       "<div>\n",
       "<style scoped>\n",
       "    .dataframe tbody tr th:only-of-type {\n",
       "        vertical-align: middle;\n",
       "    }\n",
       "\n",
       "    .dataframe tbody tr th {\n",
       "        vertical-align: top;\n",
       "    }\n",
       "\n",
       "    .dataframe thead th {\n",
       "        text-align: right;\n",
       "    }\n",
       "</style>\n",
       "<table border=\"1\" class=\"dataframe\">\n",
       "  <thead>\n",
       "    <tr style=\"text-align: right;\">\n",
       "      <th></th>\n",
       "      <th>order_id</th>\n",
       "      <th>quantity</th>\n",
       "      <th>item_name</th>\n",
       "      <th>choice_description</th>\n",
       "      <th>item_price</th>\n",
       "    </tr>\n",
       "  </thead>\n",
       "  <tbody>\n",
       "    <tr>\n",
       "      <th>7</th>\n",
       "      <td>4</td>\n",
       "      <td>1</td>\n",
       "      <td>Steak Burrito</td>\n",
       "      <td>[Tomatillo Red Chili Salsa, [Fajita Vegetables...</td>\n",
       "      <td>11.75</td>\n",
       "    </tr>\n",
       "    <tr>\n",
       "      <th>9</th>\n",
       "      <td>5</td>\n",
       "      <td>1</td>\n",
       "      <td>Steak Burrito</td>\n",
       "      <td>[Fresh Tomato Salsa, [Rice, Black Beans, Pinto...</td>\n",
       "      <td>9.25</td>\n",
       "    </tr>\n",
       "    <tr>\n",
       "      <th>16</th>\n",
       "      <td>8</td>\n",
       "      <td>1</td>\n",
       "      <td>Chicken Burrito</td>\n",
       "      <td>[Tomatillo-Green Chili Salsa (Medium), [Pinto ...</td>\n",
       "      <td>8.49</td>\n",
       "    </tr>\n",
       "    <tr>\n",
       "      <th>17</th>\n",
       "      <td>9</td>\n",
       "      <td>1</td>\n",
       "      <td>Chicken Burrito</td>\n",
       "      <td>[Fresh Tomato Salsa (Mild), [Black Beans, Rice...</td>\n",
       "      <td>8.49</td>\n",
       "    </tr>\n",
       "    <tr>\n",
       "      <th>21</th>\n",
       "      <td>11</td>\n",
       "      <td>1</td>\n",
       "      <td>Barbacoa Burrito</td>\n",
       "      <td>[[Fresh Tomato Salsa (Mild), Tomatillo-Green C...</td>\n",
       "      <td>8.99</td>\n",
       "    </tr>\n",
       "    <tr>\n",
       "      <th>23</th>\n",
       "      <td>12</td>\n",
       "      <td>1</td>\n",
       "      <td>Chicken Burrito</td>\n",
       "      <td>[[Tomatillo-Green Chili Salsa (Medium), Tomati...</td>\n",
       "      <td>10.98</td>\n",
       "    </tr>\n",
       "    <tr>\n",
       "      <th>27</th>\n",
       "      <td>14</td>\n",
       "      <td>1</td>\n",
       "      <td>Carnitas Burrito</td>\n",
       "      <td>[[Tomatillo-Green Chili Salsa (Medium), Roaste...</td>\n",
       "      <td>8.99</td>\n",
       "    </tr>\n",
       "    <tr>\n",
       "      <th>29</th>\n",
       "      <td>15</td>\n",
       "      <td>1</td>\n",
       "      <td>Chicken Burrito</td>\n",
       "      <td>[Tomatillo-Green Chili Salsa (Medium), [Pinto ...</td>\n",
       "      <td>8.49</td>\n",
       "    </tr>\n",
       "    <tr>\n",
       "      <th>31</th>\n",
       "      <td>16</td>\n",
       "      <td>1</td>\n",
       "      <td>Steak Burrito</td>\n",
       "      <td>[[Roasted Chili Corn Salsa (Medium), Fresh Tom...</td>\n",
       "      <td>8.99</td>\n",
       "    </tr>\n",
       "    <tr>\n",
       "      <th>43</th>\n",
       "      <td>20</td>\n",
       "      <td>1</td>\n",
       "      <td>Steak Burrito</td>\n",
       "      <td>[Fresh Tomato Salsa, [Rice, Pinto Beans, Chees...</td>\n",
       "      <td>11.75</td>\n",
       "    </tr>\n",
       "  </tbody>\n",
       "</table>\n",
       "</div>"
      ],
      "text/plain": [
       "    order_id  quantity         item_name  \\\n",
       "7          4         1     Steak Burrito   \n",
       "9          5         1     Steak Burrito   \n",
       "16         8         1   Chicken Burrito   \n",
       "17         9         1   Chicken Burrito   \n",
       "21        11         1  Barbacoa Burrito   \n",
       "23        12         1   Chicken Burrito   \n",
       "27        14         1  Carnitas Burrito   \n",
       "29        15         1   Chicken Burrito   \n",
       "31        16         1     Steak Burrito   \n",
       "43        20         1     Steak Burrito   \n",
       "\n",
       "                                   choice_description  item_price  \n",
       "7   [Tomatillo Red Chili Salsa, [Fajita Vegetables...       11.75  \n",
       "9   [Fresh Tomato Salsa, [Rice, Black Beans, Pinto...        9.25  \n",
       "16  [Tomatillo-Green Chili Salsa (Medium), [Pinto ...        8.49  \n",
       "17  [Fresh Tomato Salsa (Mild), [Black Beans, Rice...        8.49  \n",
       "21  [[Fresh Tomato Salsa (Mild), Tomatillo-Green C...        8.99  \n",
       "23  [[Tomatillo-Green Chili Salsa (Medium), Tomati...       10.98  \n",
       "27  [[Tomatillo-Green Chili Salsa (Medium), Roaste...        8.99  \n",
       "29  [Tomatillo-Green Chili Salsa (Medium), [Pinto ...        8.49  \n",
       "31  [[Roasted Chili Corn Salsa (Medium), Fresh Tom...        8.99  \n",
       "43  [Fresh Tomato Salsa, [Rice, Pinto Beans, Chees...       11.75  "
      ]
     },
     "execution_count": 187,
     "metadata": {},
     "output_type": "execute_result"
    }
   ],
   "source": [
    "burrito_df=chipotle_df[chipotle_df['item_name'].str.contains('Burrito')]\n",
    "burrito_df.head(10)"
   ]
  },
  {
   "cell_type": "code",
   "execution_count": 143,
   "metadata": {},
   "outputs": [
    {
     "data": {
      "text/plain": [
       "item_name         choice_description                                                                                                                                                   \n",
       "Barbacoa Burrito  [Fresh Tomato (Mild), [Black Beans, Rice, Sour Cream, Cheese]]                                                                                                           1\n",
       "                  [Fresh Tomato (Mild), [Guacamole, Rice, Black Beans]]                                                                                                                    1\n",
       "                  [Fresh Tomato Salsa (Mild), [Black Beans, Rice, Cheese, Sour Cream, Guacamole, Lettuce]]                                                                                 1\n",
       "                  [Fresh Tomato Salsa, [Fajita Vegetables, Rice, Black Beans, Cheese, Guacamole, Lettuce]]                                                                                 1\n",
       "                  [Fresh Tomato Salsa, [Fajita Vegetables, Rice, Black Beans, Cheese, Lettuce]]                                                                                            1\n",
       "                                                                                                                                                                                          ..\n",
       "Veggie Burrito    [[Fresh Tomato Salsa (Mild), Roasted Chili Corn Salsa (Medium)], [Rice, Fajita Veggies, Sour Cream]]                                                                     1\n",
       "                  [[Fresh Tomato Salsa (Mild), Tomatillo-Green Chili Salsa (Medium), Roasted Chili Corn Salsa (Medium)], [Black Beans, Rice, Fajita Veggies, Sour Cream, Lettuce]]         1\n",
       "                  [[Roasted Chili Corn Salsa (Medium), Fresh Tomato Salsa (Mild)], [Rice, Black Beans, Pinto Beans, Fajita Veggies, Guacamole, Lettuce]]                                   1\n",
       "                  [[Tomatillo-Green Chili Salsa (Medium), Roasted Chili Corn Salsa (Medium), Tomatillo-Red Chili Salsa (Hot)], [Black Beans, Rice, Fajita Veggies, Guacamole, Lettuce]]    1\n",
       "                  [[Tomatillo-Green Chili Salsa (Medium), Roasted Chili Corn Salsa (Medium), Tomatillo-Red Chili Salsa (Hot)], [Black Beans, Rice, Fajita Veggies, Lettuce]]               3\n",
       "Name: choice_description, Length: 743, dtype: int64"
      ]
     },
     "execution_count": 143,
     "metadata": {},
     "output_type": "execute_result"
    }
   ],
   "source": [
    "burrito_df.groupby(['item_name','choice_description']).choice_description.count()"
   ]
  },
  {
   "cell_type": "code",
   "execution_count": 188,
   "metadata": {},
   "outputs": [
    {
     "data": {
      "text/plain": [
       "item_name\n",
       "Barbacoa Burrito     71\n",
       "Burrito               6\n",
       "Carnitas Burrito     47\n",
       "Chicken Burrito     310\n",
       "Steak Burrito       251\n",
       "Veggie Burrito       58\n",
       "Name: choice_description, dtype: int64"
      ]
     },
     "execution_count": 188,
     "metadata": {},
     "output_type": "execute_result"
    }
   ],
   "source": [
    "#df = df.groupby('domain')['ID'].nunique()\n",
    "burrito_df.groupby('item_name')['choice_description'].nunique()"
   ]
  },
  {
   "cell_type": "code",
   "execution_count": null,
   "metadata": {
    "collapsed": true
   },
   "outputs": [],
   "source": []
  },
  {
   "cell_type": "markdown",
   "metadata": {},
   "source": [
    "### Part 6: Create a dictionary. Let the keys represent chip orders and the values represent the total number of orders.\n",
    "\n",
    "Expected output: `{'Chips and Roasted Chili-Corn Salsa': 18, ... }`\n",
    "\n",
    "Note: Please take the `quantity` column into account!\n",
    "\n",
    "Optional: Learn how to use `.defaultdict()` to simplify your code."
   ]
  },
  {
   "cell_type": "code",
   "execution_count": 189,
   "metadata": {},
   "outputs": [],
   "source": [
    "chips_df = chipotle_df[chipotle_df['item_name'].str.contains('Chip')]"
   ]
  },
  {
   "cell_type": "code",
   "execution_count": 190,
   "metadata": {},
   "outputs": [
    {
     "data": {
      "text/plain": [
       "(1084, 5)"
      ]
     },
     "execution_count": 190,
     "metadata": {},
     "output_type": "execute_result"
    }
   ],
   "source": [
    "chips_df.shape"
   ]
  },
  {
   "cell_type": "code",
   "execution_count": 191,
   "metadata": {},
   "outputs": [
    {
     "data": {
      "text/html": [
       "<div>\n",
       "<style scoped>\n",
       "    .dataframe tbody tr th:only-of-type {\n",
       "        vertical-align: middle;\n",
       "    }\n",
       "\n",
       "    .dataframe tbody tr th {\n",
       "        vertical-align: top;\n",
       "    }\n",
       "\n",
       "    .dataframe thead th {\n",
       "        text-align: right;\n",
       "    }\n",
       "</style>\n",
       "<table border=\"1\" class=\"dataframe\">\n",
       "  <thead>\n",
       "    <tr style=\"text-align: right;\">\n",
       "      <th></th>\n",
       "      <th>order_id</th>\n",
       "      <th>quantity</th>\n",
       "      <th>item_name</th>\n",
       "      <th>choice_description</th>\n",
       "      <th>item_price</th>\n",
       "    </tr>\n",
       "  </thead>\n",
       "  <tbody>\n",
       "    <tr>\n",
       "      <th>0</th>\n",
       "      <td>1</td>\n",
       "      <td>1</td>\n",
       "      <td>Chips and Fresh Tomato Salsa</td>\n",
       "      <td>NaN</td>\n",
       "      <td>2.39</td>\n",
       "    </tr>\n",
       "    <tr>\n",
       "      <th>3</th>\n",
       "      <td>1</td>\n",
       "      <td>1</td>\n",
       "      <td>Chips and Tomatillo-Green Chili Salsa</td>\n",
       "      <td>NaN</td>\n",
       "      <td>2.39</td>\n",
       "    </tr>\n",
       "    <tr>\n",
       "      <th>6</th>\n",
       "      <td>3</td>\n",
       "      <td>1</td>\n",
       "      <td>Side of Chips</td>\n",
       "      <td>NaN</td>\n",
       "      <td>1.69</td>\n",
       "    </tr>\n",
       "    <tr>\n",
       "      <th>10</th>\n",
       "      <td>5</td>\n",
       "      <td>1</td>\n",
       "      <td>Chips and Guacamole</td>\n",
       "      <td>NaN</td>\n",
       "      <td>4.45</td>\n",
       "    </tr>\n",
       "    <tr>\n",
       "      <th>14</th>\n",
       "      <td>7</td>\n",
       "      <td>1</td>\n",
       "      <td>Chips and Guacamole</td>\n",
       "      <td>NaN</td>\n",
       "      <td>4.45</td>\n",
       "    </tr>\n",
       "  </tbody>\n",
       "</table>\n",
       "</div>"
      ],
      "text/plain": [
       "    order_id  quantity                              item_name  \\\n",
       "0          1         1           Chips and Fresh Tomato Salsa   \n",
       "3          1         1  Chips and Tomatillo-Green Chili Salsa   \n",
       "6          3         1                          Side of Chips   \n",
       "10         5         1                    Chips and Guacamole   \n",
       "14         7         1                    Chips and Guacamole   \n",
       "\n",
       "   choice_description  item_price  \n",
       "0                 NaN        2.39  \n",
       "3                 NaN        2.39  \n",
       "6                 NaN        1.69  \n",
       "10                NaN        4.45  \n",
       "14                NaN        4.45  "
      ]
     },
     "execution_count": 191,
     "metadata": {},
     "output_type": "execute_result"
    }
   ],
   "source": [
    "chips_df.head(5)\n"
   ]
  },
  {
   "cell_type": "code",
   "execution_count": 195,
   "metadata": {},
   "outputs": [],
   "source": [
    "final = chips_df.groupby('item_name').quantity.sum()"
   ]
  },
  {
   "cell_type": "code",
   "execution_count": 196,
   "metadata": {},
   "outputs": [
    {
     "data": {
      "text/plain": [
       "item_name\n",
       "Chips                                    230\n",
       "Chips and Fresh Tomato Salsa             130\n",
       "Chips and Guacamole                      506\n",
       "Chips and Mild Fresh Tomato Salsa          1\n",
       "Chips and Roasted Chili Corn Salsa        23\n",
       "Chips and Roasted Chili-Corn Salsa        18\n",
       "Chips and Tomatillo Green Chili Salsa     45\n",
       "Chips and Tomatillo Red Chili Salsa       50\n",
       "Chips and Tomatillo-Green Chili Salsa     33\n",
       "Chips and Tomatillo-Red Chili Salsa       25\n",
       "Name: quantity, dtype: int64"
      ]
     },
     "execution_count": 196,
     "metadata": {},
     "output_type": "execute_result"
    }
   ],
   "source": [
    "final.head(10)"
   ]
  },
  {
   "cell_type": "code",
   "execution_count": 197,
   "metadata": {},
   "outputs": [],
   "source": [
    "final_dict=final.to_dict()"
   ]
  },
  {
   "cell_type": "code",
   "execution_count": 198,
   "metadata": {},
   "outputs": [
    {
     "data": {
      "text/plain": [
       "{'Chips': 230,\n",
       " 'Chips and Fresh Tomato Salsa': 130,\n",
       " 'Chips and Guacamole': 506,\n",
       " 'Chips and Mild Fresh Tomato Salsa': 1,\n",
       " 'Chips and Roasted Chili Corn Salsa': 23,\n",
       " 'Chips and Roasted Chili-Corn Salsa': 18,\n",
       " 'Chips and Tomatillo Green Chili Salsa': 45,\n",
       " 'Chips and Tomatillo Red Chili Salsa': 50,\n",
       " 'Chips and Tomatillo-Green Chili Salsa': 33,\n",
       " 'Chips and Tomatillo-Red Chili Salsa': 25,\n",
       " 'Side of Chips': 110}"
      ]
     },
     "execution_count": 198,
     "metadata": {},
     "output_type": "execute_result"
    }
   ],
   "source": [
    "final_dict"
   ]
  },
  {
   "cell_type": "markdown",
   "metadata": {},
   "source": [
    "---\n",
    "\n",
    "## Bonus: Craft a problem statement about this data that interests you, and then answer it! \n",
    "We Would Like to See the  most preferred combination by item and description of our customers and least preffered cobination it will help the chiopotle store to decide which items and combinations to stoke up and purchase more \n",
    "For least preffered combination , we can further see the price improvements ,quality improvements \n"
   ]
  },
  {
   "cell_type": "code",
   "execution_count": 199,
   "metadata": {},
   "outputs": [],
   "source": [
    "# Grouping by 2 columns \n",
    "new_df = chipotle_df.groupby(['item_name', 'choice_description']).sum()\n"
   ]
  },
  {
   "cell_type": "code",
   "execution_count": 200,
   "metadata": {},
   "outputs": [
    {
     "data": {
      "text/html": [
       "<div>\n",
       "<style scoped>\n",
       "    .dataframe tbody tr th:only-of-type {\n",
       "        vertical-align: middle;\n",
       "    }\n",
       "\n",
       "    .dataframe tbody tr th {\n",
       "        vertical-align: top;\n",
       "    }\n",
       "\n",
       "    .dataframe thead th {\n",
       "        text-align: right;\n",
       "    }\n",
       "</style>\n",
       "<table border=\"1\" class=\"dataframe\">\n",
       "  <thead>\n",
       "    <tr style=\"text-align: right;\">\n",
       "      <th></th>\n",
       "      <th></th>\n",
       "      <th>order_id</th>\n",
       "      <th>quantity</th>\n",
       "      <th>item_price</th>\n",
       "    </tr>\n",
       "    <tr>\n",
       "      <th>item_name</th>\n",
       "      <th>choice_description</th>\n",
       "      <th></th>\n",
       "      <th></th>\n",
       "      <th></th>\n",
       "    </tr>\n",
       "  </thead>\n",
       "  <tbody>\n",
       "    <tr>\n",
       "      <th rowspan=\"5\" valign=\"top\">6 Pack Soft Drink</th>\n",
       "      <th>[Coke]</th>\n",
       "      <td>19440</td>\n",
       "      <td>21</td>\n",
       "      <td>136.29</td>\n",
       "    </tr>\n",
       "    <tr>\n",
       "      <th>[Diet Coke]</th>\n",
       "      <td>24539</td>\n",
       "      <td>25</td>\n",
       "      <td>162.25</td>\n",
       "    </tr>\n",
       "    <tr>\n",
       "      <th>[Lemonade]</th>\n",
       "      <td>3056</td>\n",
       "      <td>2</td>\n",
       "      <td>12.98</td>\n",
       "    </tr>\n",
       "    <tr>\n",
       "      <th>[Nestea]</th>\n",
       "      <td>1746</td>\n",
       "      <td>2</td>\n",
       "      <td>12.98</td>\n",
       "    </tr>\n",
       "    <tr>\n",
       "      <th>[Sprite]</th>\n",
       "      <td>3541</td>\n",
       "      <td>5</td>\n",
       "      <td>32.45</td>\n",
       "    </tr>\n",
       "    <tr>\n",
       "      <th rowspan=\"5\" valign=\"top\">Barbacoa Bowl</th>\n",
       "      <th>[Fresh Tomato (Mild), [Lettuce, Black Beans, Rice]]</th>\n",
       "      <td>1278</td>\n",
       "      <td>1</td>\n",
       "      <td>8.69</td>\n",
       "    </tr>\n",
       "    <tr>\n",
       "      <th>[Fresh Tomato (Mild), [Lettuce, Rice, Cheese]]</th>\n",
       "      <td>1533</td>\n",
       "      <td>1</td>\n",
       "      <td>8.69</td>\n",
       "    </tr>\n",
       "    <tr>\n",
       "      <th>[Fresh Tomato Salsa (Mild), [Black Beans, Rice, Cheese, Sour Cream, Guacamole, Lettuce]]</th>\n",
       "      <td>987</td>\n",
       "      <td>2</td>\n",
       "      <td>22.96</td>\n",
       "    </tr>\n",
       "    <tr>\n",
       "      <th>[Fresh Tomato Salsa (Mild), [Rice, Cheese, Sour Cream, Lettuce]]</th>\n",
       "      <td>2033</td>\n",
       "      <td>2</td>\n",
       "      <td>17.98</td>\n",
       "    </tr>\n",
       "    <tr>\n",
       "      <th>[Fresh Tomato Salsa, [Fajita Vegetables, Rice, Black Beans, Cheese, Guacamole, Lettuce]]</th>\n",
       "      <td>2948</td>\n",
       "      <td>2</td>\n",
       "      <td>23.50</td>\n",
       "    </tr>\n",
       "  </tbody>\n",
       "</table>\n",
       "</div>"
      ],
      "text/plain": [
       "                                                                      order_id  \\\n",
       "item_name         choice_description                                             \n",
       "6 Pack Soft Drink [Coke]                                                 19440   \n",
       "                  [Diet Coke]                                            24539   \n",
       "                  [Lemonade]                                              3056   \n",
       "                  [Nestea]                                                1746   \n",
       "                  [Sprite]                                                3541   \n",
       "Barbacoa Bowl     [Fresh Tomato (Mild), [Lettuce, Black Beans, Ri...      1278   \n",
       "                  [Fresh Tomato (Mild), [Lettuce, Rice, Cheese]]          1533   \n",
       "                  [Fresh Tomato Salsa (Mild), [Black Beans, Rice,...       987   \n",
       "                  [Fresh Tomato Salsa (Mild), [Rice, Cheese, Sour...      2033   \n",
       "                  [Fresh Tomato Salsa, [Fajita Vegetables, Rice, ...      2948   \n",
       "\n",
       "                                                                      quantity  \\\n",
       "item_name         choice_description                                             \n",
       "6 Pack Soft Drink [Coke]                                                    21   \n",
       "                  [Diet Coke]                                               25   \n",
       "                  [Lemonade]                                                 2   \n",
       "                  [Nestea]                                                   2   \n",
       "                  [Sprite]                                                   5   \n",
       "Barbacoa Bowl     [Fresh Tomato (Mild), [Lettuce, Black Beans, Ri...         1   \n",
       "                  [Fresh Tomato (Mild), [Lettuce, Rice, Cheese]]             1   \n",
       "                  [Fresh Tomato Salsa (Mild), [Black Beans, Rice,...         2   \n",
       "                  [Fresh Tomato Salsa (Mild), [Rice, Cheese, Sour...         2   \n",
       "                  [Fresh Tomato Salsa, [Fajita Vegetables, Rice, ...         2   \n",
       "\n",
       "                                                                      item_price  \n",
       "item_name         choice_description                                              \n",
       "6 Pack Soft Drink [Coke]                                                  136.29  \n",
       "                  [Diet Coke]                                             162.25  \n",
       "                  [Lemonade]                                               12.98  \n",
       "                  [Nestea]                                                 12.98  \n",
       "                  [Sprite]                                                 32.45  \n",
       "Barbacoa Bowl     [Fresh Tomato (Mild), [Lettuce, Black Beans, Ri...        8.69  \n",
       "                  [Fresh Tomato (Mild), [Lettuce, Rice, Cheese]]            8.69  \n",
       "                  [Fresh Tomato Salsa (Mild), [Black Beans, Rice,...       22.96  \n",
       "                  [Fresh Tomato Salsa (Mild), [Rice, Cheese, Sour...       17.98  \n",
       "                  [Fresh Tomato Salsa, [Fajita Vegetables, Rice, ...       23.50  "
      ]
     },
     "execution_count": 200,
     "metadata": {},
     "output_type": "execute_result"
    }
   ],
   "source": [
    "new_df.head(10)"
   ]
  },
  {
   "cell_type": "code",
   "execution_count": 201,
   "metadata": {},
   "outputs": [],
   "source": [
    "#Sorting list to get orderes choices \n",
    "df_sorted = new_df.sort_values(['item_price'], ascending=False)"
   ]
  },
  {
   "cell_type": "code",
   "execution_count": 169,
   "metadata": {},
   "outputs": [
    {
     "name": "stdout",
     "output_type": "stream",
     "text": [
      "\n",
      " Top 10 items after sorting the grouped Data by item_price :\n"
     ]
    },
    {
     "data": {
      "text/html": [
       "<div>\n",
       "<style scoped>\n",
       "    .dataframe tbody tr th:only-of-type {\n",
       "        vertical-align: middle;\n",
       "    }\n",
       "\n",
       "    .dataframe tbody tr th {\n",
       "        vertical-align: top;\n",
       "    }\n",
       "\n",
       "    .dataframe thead th {\n",
       "        text-align: right;\n",
       "    }\n",
       "</style>\n",
       "<table border=\"1\" class=\"dataframe\">\n",
       "  <thead>\n",
       "    <tr style=\"text-align: right;\">\n",
       "      <th></th>\n",
       "      <th></th>\n",
       "      <th>order_id</th>\n",
       "      <th>quantity</th>\n",
       "      <th>item_price</th>\n",
       "    </tr>\n",
       "    <tr>\n",
       "      <th>item_name</th>\n",
       "      <th>choice_description</th>\n",
       "      <th></th>\n",
       "      <th></th>\n",
       "      <th></th>\n",
       "    </tr>\n",
       "  </thead>\n",
       "  <tbody>\n",
       "    <tr>\n",
       "      <th rowspan=\"2\" valign=\"top\">Chicken Burrito</th>\n",
       "      <th>[Fresh Tomato Salsa, [Rice, Black Beans, Cheese, Sour Cream, Lettuce]]</th>\n",
       "      <td>17682</td>\n",
       "      <td>21</td>\n",
       "      <td>183.75</td>\n",
       "    </tr>\n",
       "    <tr>\n",
       "      <th>[Fresh Tomato Salsa, [Rice, Black Beans, Cheese, Sour Cream]]</th>\n",
       "      <td>13781</td>\n",
       "      <td>19</td>\n",
       "      <td>166.25</td>\n",
       "    </tr>\n",
       "    <tr>\n",
       "      <th>6 Pack Soft Drink</th>\n",
       "      <th>[Diet Coke]</th>\n",
       "      <td>24539</td>\n",
       "      <td>25</td>\n",
       "      <td>162.25</td>\n",
       "    </tr>\n",
       "    <tr>\n",
       "      <th>Chicken Bowl</th>\n",
       "      <th>[Fresh Tomato Salsa, [Rice, Black Beans, Cheese, Sour Cream, Guacamole, Lettuce]]</th>\n",
       "      <td>15003</td>\n",
       "      <td>14</td>\n",
       "      <td>157.50</td>\n",
       "    </tr>\n",
       "    <tr>\n",
       "      <th>Canned Soft Drink</th>\n",
       "      <th>[Coke]</th>\n",
       "      <td>103312</td>\n",
       "      <td>122</td>\n",
       "      <td>152.50</td>\n",
       "    </tr>\n",
       "    <tr>\n",
       "      <th>Chicken Bowl</th>\n",
       "      <th>[Fresh Tomato Salsa, [Fajita Vegetables, Rice]]</th>\n",
       "      <td>14095</td>\n",
       "      <td>17</td>\n",
       "      <td>148.75</td>\n",
       "    </tr>\n",
       "    <tr>\n",
       "      <th>Canned Soft Drink</th>\n",
       "      <th>[Diet Coke]</th>\n",
       "      <td>88465</td>\n",
       "      <td>115</td>\n",
       "      <td>143.75</td>\n",
       "    </tr>\n",
       "    <tr>\n",
       "      <th>Chicken Bowl</th>\n",
       "      <th>[Fresh Tomato Salsa, [Rice, Black Beans, Cheese, Sour Cream, Lettuce]]</th>\n",
       "      <td>10990</td>\n",
       "      <td>16</td>\n",
       "      <td>140.00</td>\n",
       "    </tr>\n",
       "    <tr>\n",
       "      <th>6 Pack Soft Drink</th>\n",
       "      <th>[Coke]</th>\n",
       "      <td>19440</td>\n",
       "      <td>21</td>\n",
       "      <td>136.29</td>\n",
       "    </tr>\n",
       "    <tr>\n",
       "      <th>Chicken Burrito</th>\n",
       "      <th>[Fresh Tomato Salsa, [Rice, Black Beans, Cheese, Sour Cream, Guacamole, Lettuce]]</th>\n",
       "      <td>8226</td>\n",
       "      <td>12</td>\n",
       "      <td>135.00</td>\n",
       "    </tr>\n",
       "  </tbody>\n",
       "</table>\n",
       "</div>"
      ],
      "text/plain": [
       "                                                                      order_id  \\\n",
       "item_name         choice_description                                             \n",
       "Chicken Burrito   [Fresh Tomato Salsa, [Rice, Black Beans, Cheese...     17682   \n",
       "                  [Fresh Tomato Salsa, [Rice, Black Beans, Cheese...     13781   \n",
       "6 Pack Soft Drink [Diet Coke]                                            24539   \n",
       "Chicken Bowl      [Fresh Tomato Salsa, [Rice, Black Beans, Cheese...     15003   \n",
       "Canned Soft Drink [Coke]                                                103312   \n",
       "Chicken Bowl      [Fresh Tomato Salsa, [Fajita Vegetables, Rice]]        14095   \n",
       "Canned Soft Drink [Diet Coke]                                            88465   \n",
       "Chicken Bowl      [Fresh Tomato Salsa, [Rice, Black Beans, Cheese...     10990   \n",
       "6 Pack Soft Drink [Coke]                                                 19440   \n",
       "Chicken Burrito   [Fresh Tomato Salsa, [Rice, Black Beans, Cheese...      8226   \n",
       "\n",
       "                                                                      quantity  \\\n",
       "item_name         choice_description                                             \n",
       "Chicken Burrito   [Fresh Tomato Salsa, [Rice, Black Beans, Cheese...        21   \n",
       "                  [Fresh Tomato Salsa, [Rice, Black Beans, Cheese...        19   \n",
       "6 Pack Soft Drink [Diet Coke]                                               25   \n",
       "Chicken Bowl      [Fresh Tomato Salsa, [Rice, Black Beans, Cheese...        14   \n",
       "Canned Soft Drink [Coke]                                                   122   \n",
       "Chicken Bowl      [Fresh Tomato Salsa, [Fajita Vegetables, Rice]]           17   \n",
       "Canned Soft Drink [Diet Coke]                                              115   \n",
       "Chicken Bowl      [Fresh Tomato Salsa, [Rice, Black Beans, Cheese...        16   \n",
       "6 Pack Soft Drink [Coke]                                                    21   \n",
       "Chicken Burrito   [Fresh Tomato Salsa, [Rice, Black Beans, Cheese...        12   \n",
       "\n",
       "                                                                      item_price  \n",
       "item_name         choice_description                                              \n",
       "Chicken Burrito   [Fresh Tomato Salsa, [Rice, Black Beans, Cheese...      183.75  \n",
       "                  [Fresh Tomato Salsa, [Rice, Black Beans, Cheese...      166.25  \n",
       "6 Pack Soft Drink [Diet Coke]                                             162.25  \n",
       "Chicken Bowl      [Fresh Tomato Salsa, [Rice, Black Beans, Cheese...      157.50  \n",
       "Canned Soft Drink [Coke]                                                  152.50  \n",
       "Chicken Bowl      [Fresh Tomato Salsa, [Fajita Vegetables, Rice]]         148.75  \n",
       "Canned Soft Drink [Diet Coke]                                             143.75  \n",
       "Chicken Bowl      [Fresh Tomato Salsa, [Rice, Black Beans, Cheese...      140.00  \n",
       "6 Pack Soft Drink [Coke]                                                  136.29  \n",
       "Chicken Burrito   [Fresh Tomato Salsa, [Rice, Black Beans, Cheese...      135.00  "
      ]
     },
     "execution_count": 169,
     "metadata": {},
     "output_type": "execute_result"
    }
   ],
   "source": [
    "# Top 10 most popular items to stcok up stock of these items \n",
    "print('\\n Top 10 items after sorting the grouped Data by item_price :')\n",
    "df_sorted.head(10)"
   ]
  },
  {
   "cell_type": "code",
   "execution_count": 202,
   "metadata": {},
   "outputs": [
    {
     "name": "stdout",
     "output_type": "stream",
     "text": [
      "\n",
      " last 10 items after sorting the grouped Data by item_price :\n"
     ]
    },
    {
     "data": {
      "text/html": [
       "<div>\n",
       "<style scoped>\n",
       "    .dataframe tbody tr th:only-of-type {\n",
       "        vertical-align: middle;\n",
       "    }\n",
       "\n",
       "    .dataframe tbody tr th {\n",
       "        vertical-align: top;\n",
       "    }\n",
       "\n",
       "    .dataframe thead th {\n",
       "        text-align: right;\n",
       "    }\n",
       "</style>\n",
       "<table border=\"1\" class=\"dataframe\">\n",
       "  <thead>\n",
       "    <tr style=\"text-align: right;\">\n",
       "      <th></th>\n",
       "      <th></th>\n",
       "      <th>order_id</th>\n",
       "      <th>quantity</th>\n",
       "      <th>item_price</th>\n",
       "    </tr>\n",
       "    <tr>\n",
       "      <th>item_name</th>\n",
       "      <th>choice_description</th>\n",
       "      <th></th>\n",
       "      <th></th>\n",
       "      <th></th>\n",
       "    </tr>\n",
       "  </thead>\n",
       "  <tbody>\n",
       "    <tr>\n",
       "      <th rowspan=\"2\" valign=\"top\">Salad</th>\n",
       "      <th>[Brown Rice, Adobo-Marinated and Grilled Chicken, Vegetarian Black Beans]</th>\n",
       "      <td>575</td>\n",
       "      <td>1</td>\n",
       "      <td>7.4</td>\n",
       "    </tr>\n",
       "    <tr>\n",
       "      <th>[White Rice, Adobo-Marinated and Grilled Chicken, Vegetarian Black Beans]</th>\n",
       "      <td>575</td>\n",
       "      <td>1</td>\n",
       "      <td>7.4</td>\n",
       "    </tr>\n",
       "    <tr>\n",
       "      <th rowspan=\"4\" valign=\"top\">Burrito</th>\n",
       "      <th>[Adobo-Marinated and Grilled Chicken, [Sour Cream, Cheese, Cilantro-Lime Rice]]</th>\n",
       "      <td>279</td>\n",
       "      <td>1</td>\n",
       "      <td>7.4</td>\n",
       "    </tr>\n",
       "    <tr>\n",
       "      <th>[Braised Barbacoa, Pinto Beans, [Sour Cream, Salsa, Cheese, Cilantro-Lime Rice, Guacamole]]</th>\n",
       "      <td>217</td>\n",
       "      <td>1</td>\n",
       "      <td>7.4</td>\n",
       "    </tr>\n",
       "    <tr>\n",
       "      <th>[Braised Barbacoa, Vegetarian Black Beans, [Sour Cream, Salsa, Cheese, Cilantro-Lime Rice]]</th>\n",
       "      <td>214</td>\n",
       "      <td>1</td>\n",
       "      <td>7.4</td>\n",
       "    </tr>\n",
       "    <tr>\n",
       "      <th>[White Rice, Adobo-Marinated and Grilled Steak, Pinto Beans, [Sour Cream, Salsa, Cheese, Cilantro-Lime Rice]]</th>\n",
       "      <td>313</td>\n",
       "      <td>1</td>\n",
       "      <td>7.4</td>\n",
       "    </tr>\n",
       "    <tr>\n",
       "      <th>Crispy Tacos</th>\n",
       "      <th>[Adobo-Marinated and Grilled Steak]</th>\n",
       "      <td>217</td>\n",
       "      <td>1</td>\n",
       "      <td>7.4</td>\n",
       "    </tr>\n",
       "    <tr>\n",
       "      <th>Burrito</th>\n",
       "      <th>[White Rice, Adobo-Marinated and Grilled Steak, [Salsa, Cheese]]</th>\n",
       "      <td>313</td>\n",
       "      <td>1</td>\n",
       "      <td>7.4</td>\n",
       "    </tr>\n",
       "    <tr>\n",
       "      <th>Crispy Tacos</th>\n",
       "      <th>[Adobo-Marinated and Grilled Chicken]</th>\n",
       "      <td>217</td>\n",
       "      <td>1</td>\n",
       "      <td>7.4</td>\n",
       "    </tr>\n",
       "    <tr>\n",
       "      <th>Burrito</th>\n",
       "      <th>[Adobo-Marinated and Grilled Chicken, Pinto Beans, [Sour Cream, Salsa, Cheese, Cilantro-Lime Rice, Guacamole]]</th>\n",
       "      <td>214</td>\n",
       "      <td>1</td>\n",
       "      <td>7.4</td>\n",
       "    </tr>\n",
       "  </tbody>\n",
       "</table>\n",
       "</div>"
      ],
      "text/plain": [
       "                                                                 order_id  \\\n",
       "item_name    choice_description                                             \n",
       "Salad        [Brown Rice, Adobo-Marinated and Grilled Chicke...       575   \n",
       "             [White Rice, Adobo-Marinated and Grilled Chicke...       575   \n",
       "Burrito      [Adobo-Marinated and Grilled Chicken, [Sour Cre...       279   \n",
       "             [Braised Barbacoa, Pinto Beans, [Sour Cream, Sa...       217   \n",
       "             [Braised Barbacoa, Vegetarian Black Beans, [Sou...       214   \n",
       "             [White Rice, Adobo-Marinated and Grilled Steak,...       313   \n",
       "Crispy Tacos [Adobo-Marinated and Grilled Steak]                      217   \n",
       "Burrito      [White Rice, Adobo-Marinated and Grilled Steak,...       313   \n",
       "Crispy Tacos [Adobo-Marinated and Grilled Chicken]                    217   \n",
       "Burrito      [Adobo-Marinated and Grilled Chicken, Pinto Bea...       214   \n",
       "\n",
       "                                                                 quantity  \\\n",
       "item_name    choice_description                                             \n",
       "Salad        [Brown Rice, Adobo-Marinated and Grilled Chicke...         1   \n",
       "             [White Rice, Adobo-Marinated and Grilled Chicke...         1   \n",
       "Burrito      [Adobo-Marinated and Grilled Chicken, [Sour Cre...         1   \n",
       "             [Braised Barbacoa, Pinto Beans, [Sour Cream, Sa...         1   \n",
       "             [Braised Barbacoa, Vegetarian Black Beans, [Sou...         1   \n",
       "             [White Rice, Adobo-Marinated and Grilled Steak,...         1   \n",
       "Crispy Tacos [Adobo-Marinated and Grilled Steak]                        1   \n",
       "Burrito      [White Rice, Adobo-Marinated and Grilled Steak,...         1   \n",
       "Crispy Tacos [Adobo-Marinated and Grilled Chicken]                      1   \n",
       "Burrito      [Adobo-Marinated and Grilled Chicken, Pinto Bea...         1   \n",
       "\n",
       "                                                                 item_price  \n",
       "item_name    choice_description                                              \n",
       "Salad        [Brown Rice, Adobo-Marinated and Grilled Chicke...         7.4  \n",
       "             [White Rice, Adobo-Marinated and Grilled Chicke...         7.4  \n",
       "Burrito      [Adobo-Marinated and Grilled Chicken, [Sour Cre...         7.4  \n",
       "             [Braised Barbacoa, Pinto Beans, [Sour Cream, Sa...         7.4  \n",
       "             [Braised Barbacoa, Vegetarian Black Beans, [Sou...         7.4  \n",
       "             [White Rice, Adobo-Marinated and Grilled Steak,...         7.4  \n",
       "Crispy Tacos [Adobo-Marinated and Grilled Steak]                        7.4  \n",
       "Burrito      [White Rice, Adobo-Marinated and Grilled Steak,...         7.4  \n",
       "Crispy Tacos [Adobo-Marinated and Grilled Chicken]                      7.4  \n",
       "Burrito      [Adobo-Marinated and Grilled Chicken, Pinto Bea...         7.4  "
      ]
     },
     "execution_count": 202,
     "metadata": {},
     "output_type": "execute_result"
    }
   ],
   "source": [
    "# last 10  items least popular to imnprove quality or improve price and customer feedback\n",
    "print('\\n last 10 items after sorting the grouped Data by item_price :')\n",
    "df_sorted.tail(10)"
   ]
  },
  {
   "cell_type": "code",
   "execution_count": null,
   "metadata": {},
   "outputs": [],
   "source": []
  }
 ],
 "metadata": {
  "anaconda-cloud": {},
  "kernelspec": {
   "display_name": "Python 3",
   "language": "python",
   "name": "python3"
  },
  "language_info": {
   "codemirror_mode": {
    "name": "ipython",
    "version": 3
   },
   "file_extension": ".py",
   "mimetype": "text/x-python",
   "name": "python",
   "nbconvert_exporter": "python",
   "pygments_lexer": "ipython3",
   "version": "3.8.3"
  }
 },
 "nbformat": 4,
 "nbformat_minor": 2
}
